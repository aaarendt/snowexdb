{
 "cells": [
  {
   "cell_type": "code",
   "execution_count": 1,
   "id": "dd7c7568",
   "metadata": {},
   "outputs": [],
   "source": [
    "from sqlmodel import SQLModel, create_engine\n",
    "from dotenv import load_dotenv\n",
    "import os\n",
    "\n",
    "load_dotenv() # credentials come from a local .env file\n",
    "\n",
    "postgresql_url = \"postgresql+psycopg2://{username}:{password}@\" \\\n",
    "                 \"localhost:5432/snwql\". \\\n",
    "                  format(username = os.getenv('USERNAME'),\n",
    "                        password = os.getenv('PASSWORD'))\n",
    "\n",
    "engine = create_engine(postgresql_url, echo=False)\n",
    "\n",
    "SQLModel.metadata.create_all(engine)\n",
    "\n"
   ]
  },
  {
   "cell_type": "code",
   "execution_count": null,
   "id": "cfa50fcd",
   "metadata": {},
   "outputs": [],
   "source": []
  }
 ],
 "metadata": {
  "kernelspec": {
   "display_name": "snowexsql",
   "language": "python",
   "name": "python3"
  },
  "language_info": {
   "codemirror_mode": {
    "name": "ipython",
    "version": 3
   },
   "file_extension": ".py",
   "mimetype": "text/x-python",
   "name": "python",
   "nbconvert_exporter": "python",
   "pygments_lexer": "ipython3",
   "version": "3.12.6"
  }
 },
 "nbformat": 4,
 "nbformat_minor": 5
}
