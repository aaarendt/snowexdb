{
 "cells": [
  {
   "cell_type": "code",
   "execution_count": 1,
   "id": "dd7c7568",
   "metadata": {},
   "outputs": [],
   "source": [
    "from sqlmodel import SQLModel, create_engine\n",
    "from dotenv import load_dotenv\n",
    "import os\n",
    "\n",
    "load_dotenv() # credentials come from a local .env file\n",
    "\n",
    "postgresql_url = \"postgresql+psycopg2://{username}:{password}@\" \\\n",
    "                 \"localhost:5432/snwql\". \\\n",
    "                  format(username = os.getenv('USERNAME'),\n",
    "                        password = os.getenv('PASSWORD'))\n",
    "\n",
    "engine = create_engine(postgresql_url, echo=False)\n",
    "\n",
    "SQLModel.metadata.create_all(engine)\n",
    "\n"
   ]
  },
  {
   "cell_type": "code",
   "execution_count": null,
   "id": "9b4d18a3",
   "metadata": {},
   "outputs": [],
   "source": [
    "from snowexdb.utils.data_parser import download_csv, parse_csv_data\n",
    "from snowexdb.utils.access_data import NSIDC_access\n",
    "\n",
    "collections = NSIDC_access(\"10.5067/KZ43HVLZV6G4\")\n",
    "\n",
    "\n",
    "for collection in collections:\n",
    "    files = collection.data_links(\"Data\")\n",
    "    for file in files:\n",
    "        if \"density\" in file:\n",
    "            data = download_csv(file)\n",
    "            profileData = parse_csv_data(\"data/downloaded_file.csv\")\n",
    "            for index, profile in enumerate(profileData.profiles):\n",
    "                profile.df.to_csv(\"data/observations{}.csv\".format(index))\n",
    "                print(profile.metadata)"
   ]
  },
  {
   "cell_type": "code",
   "execution_count": 67,
   "id": "3d03be8a",
   "metadata": {},
   "outputs": [
    {
     "name": "stderr",
     "output_type": "stream",
     "text": [
      "Could not find mapping for pit_comments\n",
      "Could not find mapping for parameter_codes\n"
     ]
    },
    {
     "name": "stdout",
     "output_type": "stream",
     "text": [
      "CSV file downloaded successfully as 'downloaded_file.csv'\n",
      "ProfileMetaData(site_name='COFEJ2_20191216_1232', date_time=Timestamp('2019-12-16 19:32:00+0000', tz='UTC'), latitude=39.90614, longitude=-105.88261, utm_epsg='26913', campaign_name='Fraser Experimental Forest', flags=None, comments=None, observers=None)\n",
      "ProfileMetaData(site_name='COFEJ2_20191216_1232', date_time=Timestamp('2019-12-16 19:32:00+0000', tz='UTC'), latitude=39.90614, longitude=-105.88261, utm_epsg='26913', campaign_name='Fraser Experimental Forest', flags=None, comments=None, observers=None)\n",
      "ProfileMetaData(site_name='COFEJ2_20191216_1232', date_time=Timestamp('2019-12-16 19:32:00+0000', tz='UTC'), latitude=39.90614, longitude=-105.88261, utm_epsg='26913', campaign_name='Fraser Experimental Forest', flags=None, comments=None, observers=None)\n"
     ]
    }
   ],
   "source": [
    "data = download_csv(\"https://n5eil01u.ecs.nsidc.org/DP6/SNOWEX/SNEX20_TS_SP.002/2019.12.16/SNEX20_TS_SP_20191216_1232_COFEJ2_data_density_v02.csv\")\n",
    "profileData = parse_csv_data(\"data/downloaded_file.csv\")\n",
    "for index, profile in enumerate(profileData.profiles):\n",
    "    profile.df.to_csv(\"data/observations{}.csv\".format(index), index=False)\n",
    "    print(profile.metadata)"
   ]
  },
  {
   "cell_type": "code",
   "execution_count": 27,
   "id": "6ccf69f5",
   "metadata": {},
   "outputs": [
    {
     "name": "stderr",
     "output_type": "stream",
     "text": [
      "Could not find mapping for pit_comments\n",
      "Could not find mapping for parameter_codes\n"
     ]
    }
   ],
   "source": [
    "d = parse_csv_data(\"data/downloaded_file.csv\")"
   ]
  },
  {
   "cell_type": "code",
   "execution_count": 22,
   "id": "99c7147d",
   "metadata": {},
   "outputs": [
    {
     "data": {
      "text/html": [
       "<div>\n",
       "<style scoped>\n",
       "    .dataframe tbody tr th:only-of-type {\n",
       "        vertical-align: middle;\n",
       "    }\n",
       "\n",
       "    .dataframe tbody tr th {\n",
       "        vertical-align: top;\n",
       "    }\n",
       "\n",
       "    .dataframe thead th {\n",
       "        text-align: right;\n",
       "    }\n",
       "</style>\n",
       "<table border=\"1\" class=\"dataframe\">\n",
       "  <thead>\n",
       "    <tr style=\"text-align: right;\">\n",
       "      <th></th>\n",
       "      <th>depth</th>\n",
       "      <th>bottom_depth</th>\n",
       "      <th>density</th>\n",
       "      <th>datetime</th>\n",
       "      <th>geometry</th>\n",
       "      <th>layer_thickness</th>\n",
       "    </tr>\n",
       "  </thead>\n",
       "  <tbody>\n",
       "    <tr>\n",
       "      <th>0</th>\n",
       "      <td>97.0</td>\n",
       "      <td>87.0</td>\n",
       "      <td>164.0</td>\n",
       "      <td>2020-02-01 19:20:00+00:00</td>\n",
       "      <td>POINT (-106.9785 38.92667)</td>\n",
       "      <td>10.0</td>\n",
       "    </tr>\n",
       "    <tr>\n",
       "      <th>1</th>\n",
       "      <td>87.0</td>\n",
       "      <td>77.0</td>\n",
       "      <td>242.0</td>\n",
       "      <td>2020-02-01 19:20:00+00:00</td>\n",
       "      <td>POINT (-106.9785 38.92667)</td>\n",
       "      <td>10.0</td>\n",
       "    </tr>\n",
       "    <tr>\n",
       "      <th>2</th>\n",
       "      <td>77.0</td>\n",
       "      <td>67.0</td>\n",
       "      <td>246.0</td>\n",
       "      <td>2020-02-01 19:20:00+00:00</td>\n",
       "      <td>POINT (-106.9785 38.92667)</td>\n",
       "      <td>10.0</td>\n",
       "    </tr>\n",
       "    <tr>\n",
       "      <th>3</th>\n",
       "      <td>67.0</td>\n",
       "      <td>57.0</td>\n",
       "      <td>261.0</td>\n",
       "      <td>2020-02-01 19:20:00+00:00</td>\n",
       "      <td>POINT (-106.9785 38.92667)</td>\n",
       "      <td>10.0</td>\n",
       "    </tr>\n",
       "    <tr>\n",
       "      <th>4</th>\n",
       "      <td>57.0</td>\n",
       "      <td>47.0</td>\n",
       "      <td>284.0</td>\n",
       "      <td>2020-02-01 19:20:00+00:00</td>\n",
       "      <td>POINT (-106.9785 38.92667)</td>\n",
       "      <td>10.0</td>\n",
       "    </tr>\n",
       "    <tr>\n",
       "      <th>5</th>\n",
       "      <td>47.0</td>\n",
       "      <td>37.0</td>\n",
       "      <td>280.0</td>\n",
       "      <td>2020-02-01 19:20:00+00:00</td>\n",
       "      <td>POINT (-106.9785 38.92667)</td>\n",
       "      <td>10.0</td>\n",
       "    </tr>\n",
       "    <tr>\n",
       "      <th>6</th>\n",
       "      <td>37.0</td>\n",
       "      <td>27.0</td>\n",
       "      <td>302.0</td>\n",
       "      <td>2020-02-01 19:20:00+00:00</td>\n",
       "      <td>POINT (-106.9785 38.92667)</td>\n",
       "      <td>10.0</td>\n",
       "    </tr>\n",
       "  </tbody>\n",
       "</table>\n",
       "</div>"
      ],
      "text/plain": [
       "   depth  bottom_depth  density                  datetime  \\\n",
       "0   97.0          87.0    164.0 2020-02-01 19:20:00+00:00   \n",
       "1   87.0          77.0    242.0 2020-02-01 19:20:00+00:00   \n",
       "2   77.0          67.0    246.0 2020-02-01 19:20:00+00:00   \n",
       "3   67.0          57.0    261.0 2020-02-01 19:20:00+00:00   \n",
       "4   57.0          47.0    284.0 2020-02-01 19:20:00+00:00   \n",
       "5   47.0          37.0    280.0 2020-02-01 19:20:00+00:00   \n",
       "6   37.0          27.0    302.0 2020-02-01 19:20:00+00:00   \n",
       "\n",
       "                     geometry  layer_thickness  \n",
       "0  POINT (-106.9785 38.92667)             10.0  \n",
       "1  POINT (-106.9785 38.92667)             10.0  \n",
       "2  POINT (-106.9785 38.92667)             10.0  \n",
       "3  POINT (-106.9785 38.92667)             10.0  \n",
       "4  POINT (-106.9785 38.92667)             10.0  \n",
       "5  POINT (-106.9785 38.92667)             10.0  \n",
       "6  POINT (-106.9785 38.92667)             10.0  "
      ]
     },
     "execution_count": 22,
     "metadata": {},
     "output_type": "execute_result"
    }
   ],
   "source": [
    "profileData.profiles[0].df"
   ]
  },
  {
   "cell_type": "code",
   "execution_count": 75,
   "id": "e0f65933",
   "metadata": {},
   "outputs": [
    {
     "name": "stderr",
     "output_type": "stream",
     "text": [
      "Could not find mapping for pit_comments\n",
      "Could not find mapping for parameter_codes\n"
     ]
    },
    {
     "name": "stdout",
     "output_type": "stream",
     "text": [
      "CSV file downloaded successfully as 'downloaded_file.csv'\n",
      "   depth  bottom_depth  density                  datetime  \\\n",
      "0   48.0          38.0    144.0 2019-12-16 19:32:00+00:00   \n",
      "1   38.0          28.0    213.0 2019-12-16 19:32:00+00:00   \n",
      "2   28.0          18.0    264.0 2019-12-16 19:32:00+00:00   \n",
      "3   18.0           8.0    292.0 2019-12-16 19:32:00+00:00   \n",
      "\n",
      "                      geometry  layer_thickness  \n",
      "0  POINT (-105.88261 39.90614)             10.0  \n",
      "1  POINT (-105.88261 39.90614)             10.0  \n",
      "2  POINT (-105.88261 39.90614)             10.0  \n",
      "3  POINT (-105.88261 39.90614)             10.0  \n"
     ]
    }
   ],
   "source": [
    "files = [\"https://n5eil01u.ecs.nsidc.org/DP6/SNOWEX/SNEX20_TS_SP.002/2019.12.16/SNEX20_TS_SP_20191216_1232_COFEJ2_data_density_v02.csv\"]\n",
    "for file in files:\n",
    "    if \"density\" in file:\n",
    "        download_csv(file)\n",
    "        profileData = parse_csv_data(\"data/downloaded_file.csv\")\n",
    "        print(profileData.profiles[0].df)\n",
    "        #add_layer_data(profileData.profiles[0].df, profileData.metadata)"
   ]
  },
  {
   "cell_type": "code",
   "execution_count": 1,
   "id": "382e1006",
   "metadata": {},
   "outputs": [
    {
     "name": "stdout",
     "output_type": "stream",
     "text": [
      "/home/arendta/git/aaarendt/snowexdb/src/snowexdb\n",
      "CSV file downloaded successfully as 'downloaded_file.csv'\n"
     ]
    }
   ],
   "source": [
    "from snowexdb.utils.data_parser import download_csv\n",
    "file = \"https://n5eil01u.ecs.nsidc.org/DP6/SNOWEX/SNEX20_TS_SP.002/2019.12.16/SNEX20_TS_SP_20191216_1232_COFEJ2_data_density_v02.csv\"\n",
    "\n",
    "download_csv(file)"
   ]
  },
  {
   "cell_type": "code",
   "execution_count": 5,
   "id": "97bc0270",
   "metadata": {},
   "outputs": [],
   "source": [
    "import requests\n",
    "import csv\n",
    "from io import StringIO\n",
    "\n",
    "def read_csv_from_url(url):\n",
    "    \"\"\"\n",
    "    Reads CSV data from a URL and returns it as a list of dictionaries.\n",
    "\n",
    "    Args:\n",
    "        url (str): The URL of the CSV file.\n",
    "\n",
    "    Returns:\n",
    "        list: A list of dictionaries, where each dictionary represents a row in the CSV file. \n",
    "              Returns an empty list if there's an error.\n",
    "    \"\"\"\n",
    "    try:\n",
    "        response = requests.get(url)\n",
    "        response.raise_for_status()  # Raise HTTPError for bad responses (4xx or 5xx)\n",
    "\n",
    "        csv_text = StringIO(response.text)\n",
    "        csv_reader = csv.DictReader(csv_text)\n",
    "        data = list(csv_reader)\n",
    "        return data\n",
    "    except requests.exceptions.RequestException as e:\n",
    "         print(f\"Request error: {e}\")\n",
    "         return []\n",
    "    except csv.Error as e:\n",
    "        print(f\"CSV parsing error: {e}\")\n",
    "        return []\n",
    "\n",
    "# # Example Usage\n",
    "# csv_url = collections[0].data_links(\"Data\")[0]  # Replace with the actual URL of your CSV file\n",
    "# csv_data = read_csv_from_url(csv_url)\n",
    "\n",
    "# if csv_data:\n",
    "#     for row in csv_data:\n",
    "#         print(row) # Process each row of the CSV data\n",
    "# else:\n",
    "#     print(\"Failed to read CSV data.\")"
   ]
  },
  {
   "cell_type": "code",
   "execution_count": 21,
   "id": "84971d22",
   "metadata": {},
   "outputs": [
    {
     "data": {
      "text/plain": [
       "[PosixPath('/home/arendta/git/snow/insitupy/insitupy/variables/basemetadatavariables.yaml'),\n",
       " PosixPath('/home/arendta/git/snow/insitupy/insitupy/campaigns/snowex/snowexmetadatavariables.yaml')]"
      ]
     },
     "execution_count": 21,
     "metadata": {},
     "output_type": "execute_result"
    }
   ],
   "source": [
    "SnowExProfileData.DEFAULT_METADATA_VARIABLE_FILES"
   ]
  },
  {
   "cell_type": "code",
   "execution_count": 48,
   "id": "7ab37936",
   "metadata": {},
   "outputs": [
    {
     "name": "stdout",
     "output_type": "stream",
     "text": [
      "<insitupy.campaigns.snowex.snowex_profile_data_collection.SnowExProfileDataCollection object at 0x7f9e083ee540>\n"
     ]
    }
   ],
   "source": [
    "from insitupy.campaigns.snowex import SnowExProfileData\n",
    "from insitupy.variables import ExtendableVariables\n",
    "from insitupy.campaigns.snowex.snowex_profile_data_collection \\\n",
    "     import SnowExProfileDataCollection\n",
    "\n",
    "fname = \"data/downloaded_file.csv\"\n",
    "file_list = SnowExProfileData.DEFAULT_PRIMARY_VARIABLE_FILES + [\"data/overrides.yaml\"]\n",
    "my_vars = ExtendableVariables(file_list)\n",
    "my_data = SnowExProfileDataCollection.from_csv(\n",
    "    fname, allow_map_failure=True,\n",
    "    #primary_variable_files=[\"data/primaryvariables.yaml\"],\n",
    "     metadata_variable_files=SnowExProfileData.DEFAULT_METADATA_VARIABLE_FILES + [\"data/overrides.yaml\"],\n",
    ")\n",
    "print(my_data)\n"
   ]
  },
  {
   "cell_type": "code",
   "execution_count": 49,
   "id": "02bbb904",
   "metadata": {},
   "outputs": [
    {
     "data": {
      "text/html": [
       "<div>\n",
       "<style scoped>\n",
       "    .dataframe tbody tr th:only-of-type {\n",
       "        vertical-align: middle;\n",
       "    }\n",
       "\n",
       "    .dataframe tbody tr th {\n",
       "        vertical-align: top;\n",
       "    }\n",
       "\n",
       "    .dataframe thead th {\n",
       "        text-align: right;\n",
       "    }\n",
       "</style>\n",
       "<table border=\"1\" class=\"dataframe\">\n",
       "  <thead>\n",
       "    <tr style=\"text-align: right;\">\n",
       "      <th></th>\n",
       "      <th>depth</th>\n",
       "      <th>bottom_depth</th>\n",
       "      <th>density</th>\n",
       "      <th>datetime</th>\n",
       "      <th>geometry</th>\n",
       "      <th>layer_thickness</th>\n",
       "    </tr>\n",
       "  </thead>\n",
       "  <tbody>\n",
       "    <tr>\n",
       "      <th>0</th>\n",
       "      <td>61.0</td>\n",
       "      <td>51.0</td>\n",
       "      <td>128.0</td>\n",
       "      <td>2019-12-19 18:00:00+00:00</td>\n",
       "      <td>POINT (-105.88281 39.90555)</td>\n",
       "      <td>10.0</td>\n",
       "    </tr>\n",
       "    <tr>\n",
       "      <th>1</th>\n",
       "      <td>51.0</td>\n",
       "      <td>41.0</td>\n",
       "      <td>184.0</td>\n",
       "      <td>2019-12-19 18:00:00+00:00</td>\n",
       "      <td>POINT (-105.88281 39.90555)</td>\n",
       "      <td>10.0</td>\n",
       "    </tr>\n",
       "    <tr>\n",
       "      <th>2</th>\n",
       "      <td>41.0</td>\n",
       "      <td>31.0</td>\n",
       "      <td>218.0</td>\n",
       "      <td>2019-12-19 18:00:00+00:00</td>\n",
       "      <td>POINT (-105.88281 39.90555)</td>\n",
       "      <td>10.0</td>\n",
       "    </tr>\n",
       "    <tr>\n",
       "      <th>3</th>\n",
       "      <td>31.0</td>\n",
       "      <td>21.0</td>\n",
       "      <td>204.0</td>\n",
       "      <td>2019-12-19 18:00:00+00:00</td>\n",
       "      <td>POINT (-105.88281 39.90555)</td>\n",
       "      <td>10.0</td>\n",
       "    </tr>\n",
       "    <tr>\n",
       "      <th>4</th>\n",
       "      <td>21.0</td>\n",
       "      <td>11.0</td>\n",
       "      <td>273.0</td>\n",
       "      <td>2019-12-19 18:00:00+00:00</td>\n",
       "      <td>POINT (-105.88281 39.90555)</td>\n",
       "      <td>10.0</td>\n",
       "    </tr>\n",
       "    <tr>\n",
       "      <th>5</th>\n",
       "      <td>10.0</td>\n",
       "      <td>5.0</td>\n",
       "      <td>264.0</td>\n",
       "      <td>2019-12-19 18:00:00+00:00</td>\n",
       "      <td>POINT (-105.88281 39.90555)</td>\n",
       "      <td>5.0</td>\n",
       "    </tr>\n",
       "  </tbody>\n",
       "</table>\n",
       "</div>"
      ],
      "text/plain": [
       "   depth  bottom_depth  density                  datetime  \\\n",
       "0   61.0          51.0    128.0 2019-12-19 18:00:00+00:00   \n",
       "1   51.0          41.0    184.0 2019-12-19 18:00:00+00:00   \n",
       "2   41.0          31.0    218.0 2019-12-19 18:00:00+00:00   \n",
       "3   31.0          21.0    204.0 2019-12-19 18:00:00+00:00   \n",
       "4   21.0          11.0    273.0 2019-12-19 18:00:00+00:00   \n",
       "5   10.0           5.0    264.0 2019-12-19 18:00:00+00:00   \n",
       "\n",
       "                      geometry  layer_thickness  \n",
       "0  POINT (-105.88281 39.90555)             10.0  \n",
       "1  POINT (-105.88281 39.90555)             10.0  \n",
       "2  POINT (-105.88281 39.90555)             10.0  \n",
       "3  POINT (-105.88281 39.90555)             10.0  \n",
       "4  POINT (-105.88281 39.90555)             10.0  \n",
       "5  POINT (-105.88281 39.90555)              5.0  "
      ]
     },
     "execution_count": 49,
     "metadata": {},
     "output_type": "execute_result"
    }
   ],
   "source": [
    "my_data.profiles[0].df"
   ]
  },
  {
   "cell_type": "code",
   "execution_count": 47,
   "id": "c0896ea0",
   "metadata": {},
   "outputs": [],
   "source": [
    "my_data.metadata.comments"
   ]
  },
  {
   "cell_type": "code",
   "execution_count": null,
   "id": "99d8acd7",
   "metadata": {},
   "outputs": [],
   "source": []
  }
 ],
 "metadata": {
  "kernelspec": {
   "display_name": "snowexsql",
   "language": "python",
   "name": "python3"
  },
  "language_info": {
   "codemirror_mode": {
    "name": "ipython",
    "version": 3
   },
   "file_extension": ".py",
   "mimetype": "text/x-python",
   "name": "python",
   "nbconvert_exporter": "python",
   "pygments_lexer": "ipython3",
   "version": "3.12.6"
  }
 },
 "nbformat": 4,
 "nbformat_minor": 5
}
