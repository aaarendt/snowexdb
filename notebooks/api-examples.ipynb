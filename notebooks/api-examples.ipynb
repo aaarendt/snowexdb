{
 "cells": [
  {
   "cell_type": "code",
   "execution_count": null,
   "id": "e7607033",
   "metadata": {},
   "outputs": [
    {
     "name": "stdout",
     "output_type": "stream",
     "text": [
      "{'data': [{'slope_angle': None, 'wind': None, 'campaign_id': None, 'aspect': None, 'ground_condition': None, 'elevation': 400.0, 'air_temp': None, 'ground_roughness': None, 'date': '2019-10-24T12:22:00', 'total_depth': None, 'ground_vegetation': None, 'geom': '0101000020e61000005c5a0d897b785ac0c078060dfdf34340', 'weather_description': None, 'vegetation_height': None, 'id': '30e3b31d-385e-46eb-a674-1d5b72977b2b', 'precip': None, 'tree_canopy': None, 'name': 'COFEJ2_20191024_1322', 'sky_cover': None, 'site_notes': None, 'description': None, 'doi_id': None}, {'slope_angle': None, 'wind': None, 'campaign_id': None, 'aspect': None, 'ground_condition': None, 'elevation': 400.0, 'air_temp': None, 'ground_roughness': None, 'date': '2019-10-24T12:22:00', 'total_depth': None, 'ground_vegetation': None, 'geom': '0101000020e61000005c5a0d897b785ac0c078060dfdf34340', 'weather_description': None, 'vegetation_height': None, 'id': '2e4945bd-04f1-4975-bd52-4f2bc3fcb400', 'precip': None, 'tree_canopy': None, 'name': 'COFEJ2_20191024_1322', 'sky_cover': None, 'site_notes': None, 'description': None, 'doi_id': None}, {'slope_angle': None, 'wind': None, 'campaign_id': None, 'aspect': None, 'ground_condition': None, 'elevation': 400.0, 'air_temp': None, 'ground_roughness': None, 'date': '2019-10-24T12:22:00', 'total_depth': None, 'ground_vegetation': None, 'geom': '0101000020e61000005c5a0d897b785ac0c078060dfdf34340', 'weather_description': None, 'vegetation_height': None, 'id': '03daa297-5946-4947-969d-186f3ea42a54', 'precip': None, 'tree_canopy': None, 'name': 'COFEJ2_20191024_1322', 'sky_cover': None, 'site_notes': None, 'description': None, 'doi_id': None}, {'slope_angle': None, 'wind': None, 'campaign_id': None, 'aspect': None, 'ground_condition': None, 'elevation': 400.0, 'air_temp': None, 'ground_roughness': None, 'date': '2019-10-24T11:43:00', 'total_depth': None, 'ground_vegetation': None, 'geom': '0101000020e610000018cfa0a17f785ac087f9f202ecf34340', 'weather_description': None, 'vegetation_height': None, 'id': '8b42188a-e217-4ada-b156-fc606cf3a2a3', 'precip': None, 'tree_canopy': None, 'name': 'COFEJ1_20191024_1243', 'sky_cover': None, 'site_notes': None, 'description': None, 'doi_id': None}, {'slope_angle': None, 'wind': None, 'campaign_id': None, 'aspect': None, 'ground_condition': None, 'elevation': 400.0, 'air_temp': None, 'ground_roughness': None, 'date': '2019-10-24T11:43:00', 'total_depth': None, 'ground_vegetation': None, 'geom': '0101000020e610000018cfa0a17f785ac087f9f202ecf34340', 'weather_description': None, 'vegetation_height': None, 'id': '25fb021d-869c-4d91-854e-e2da67b0d1a9', 'precip': None, 'tree_canopy': None, 'name': 'COFEJ1_20191024_1243', 'sky_cover': None, 'site_notes': None, 'description': None, 'doi_id': None}, {'slope_angle': None, 'wind': None, 'campaign_id': None, 'aspect': None, 'ground_condition': None, 'elevation': 400.0, 'air_temp': None, 'ground_roughness': None, 'date': '2019-10-24T11:43:00', 'total_depth': None, 'ground_vegetation': None, 'geom': '0101000020e610000018cfa0a17f785ac087f9f202ecf34340', 'weather_description': None, 'vegetation_height': None, 'id': 'e5767fc2-73f1-49b4-bafa-0e7e6cc65d8a', 'precip': None, 'tree_canopy': None, 'name': 'COFEJ1_20191024_1243', 'sky_cover': None, 'site_notes': None, 'description': None, 'doi_id': None}, {'slope_angle': None, 'wind': None, 'campaign_id': None, 'aspect': None, 'ground_condition': None, 'elevation': 400.0, 'air_temp': None, 'ground_roughness': None, 'date': '2019-10-29T11:10:00', 'total_depth': None, 'ground_vegetation': None, 'geom': '0101000020e6100000f4f8bd4d7f785ac0d5ca845feaf34340', 'weather_description': None, 'vegetation_height': None, 'id': 'c4435457-1051-4004-ae16-27ae978f1269', 'precip': None, 'tree_canopy': None, 'name': 'COFEJ1_20191029_1210', 'sky_cover': None, 'site_notes': None, 'description': None, 'doi_id': None}, {'slope_angle': None, 'wind': None, 'campaign_id': None, 'aspect': None, 'ground_condition': None, 'elevation': 400.0, 'air_temp': None, 'ground_roughness': None, 'date': '2019-10-29T11:10:00', 'total_depth': None, 'ground_vegetation': None, 'geom': '0101000020e6100000f4f8bd4d7f785ac0d5ca845feaf34340', 'weather_description': None, 'vegetation_height': None, 'id': '3f562684-fbb0-4d56-8a9b-7aff48d10451', 'precip': None, 'tree_canopy': None, 'name': 'COFEJ1_20191029_1210', 'sky_cover': None, 'site_notes': None, 'description': None, 'doi_id': None}, {'slope_angle': None, 'wind': None, 'campaign_id': None, 'aspect': None, 'ground_condition': None, 'elevation': 400.0, 'air_temp': None, 'ground_roughness': None, 'date': '2019-10-29T11:10:00', 'total_depth': None, 'ground_vegetation': None, 'geom': '0101000020e6100000f4f8bd4d7f785ac0d5ca845feaf34340', 'weather_description': None, 'vegetation_height': None, 'id': '2f260ebe-42e4-4c7f-a414-3d3a4657f2e7', 'precip': None, 'tree_canopy': None, 'name': 'COFEJ1_20191029_1210', 'sky_cover': None, 'site_notes': None, 'description': None, 'doi_id': None}, {'slope_angle': None, 'wind': None, 'campaign_id': None, 'aspect': None, 'ground_condition': None, 'elevation': 400.0, 'air_temp': None, 'ground_roughness': None, 'date': '2019-10-29T11:54:00', 'total_depth': None, 'ground_vegetation': None, 'geom': '0101000020e61000006dc5feb27b785ac055f65d11fcf34340', 'weather_description': None, 'vegetation_height': None, 'id': 'e2c129cb-4281-49f0-a36b-43686c080d5d', 'precip': None, 'tree_canopy': None, 'name': 'COFEJ2_20191029_1254', 'sky_cover': None, 'site_notes': None, 'description': None, 'doi_id': None}, {'slope_angle': None, 'wind': None, 'campaign_id': None, 'aspect': None, 'ground_condition': None, 'elevation': 400.0, 'air_temp': None, 'ground_roughness': None, 'date': '2019-10-29T11:54:00', 'total_depth': None, 'ground_vegetation': None, 'geom': '0101000020e61000006dc5feb27b785ac055f65d11fcf34340', 'weather_description': None, 'vegetation_height': None, 'id': '4c3295e3-082d-4e98-9f5c-5371955fa7f3', 'precip': None, 'tree_canopy': None, 'name': 'COFEJ2_20191029_1254', 'sky_cover': None, 'site_notes': None, 'description': None, 'doi_id': None}, {'slope_angle': None, 'wind': None, 'campaign_id': None, 'aspect': None, 'ground_condition': None, 'elevation': 400.0, 'air_temp': None, 'ground_roughness': None, 'date': '2019-10-29T11:54:00', 'total_depth': None, 'ground_vegetation': None, 'geom': '0101000020e61000006dc5feb27b785ac055f65d11fcf34340', 'weather_description': None, 'vegetation_height': None, 'id': 'c0d8565a-4747-4169-baa1-9549213733b1', 'precip': None, 'tree_canopy': None, 'name': 'COFEJ2_20191029_1254', 'sky_cover': None, 'site_notes': None, 'description': None, 'doi_id': None}]}\n"
     ]
    }
   ],
   "source": [
    "import requests\n",
    "# Construct the API endpoint and parameters\n",
    "api_url = \"http://127.0.0.1:8000/spatial/\"\n",
    "params = {\n",
    "    \"xmin\": -106, \"ymin\": 39, \"xmax\": -105, \"ymax\": 40\n",
    "}\n",
    "\n",
    "# Make the GET request\n",
    "response = requests.get(api_url, params=params)\n",
    "\n",
    "# Check for successful response and parse JSON\n",
    "if response.status_code == 200:\n",
    "    site_data = response.json()\n",
    "    print(site_data)\n",
    "else:\n",
    "    print(f\"Error: {response.status_code} - {response.text}\")"
   ]
  },
  {
   "cell_type": "code",
   "execution_count": null,
   "id": "f56f1295",
   "metadata": {},
   "outputs": [],
   "source": []
  }
 ],
 "metadata": {
  "kernelspec": {
   "display_name": "snowexsql",
   "language": "python",
   "name": "python3"
  },
  "language_info": {
   "codemirror_mode": {
    "name": "ipython",
    "version": 3
   },
   "file_extension": ".py",
   "mimetype": "text/x-python",
   "name": "python",
   "nbconvert_exporter": "python",
   "pygments_lexer": "ipython3",
   "version": "3.12.6"
  }
 },
 "nbformat": 4,
 "nbformat_minor": 5
}
